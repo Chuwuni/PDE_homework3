{
 "cells": [
  {
   "cell_type": "code",
   "execution_count": null,
   "id": "740aa1b5",
   "metadata": {},
   "outputs": [],
   "source": [
    "import pandas as pd\n",
    "import matplotlib as plt"
   ]
  },
  {
   "cell_type": "code",
   "execution_count": null,
   "id": "7242ee25",
   "metadata": {},
   "outputs": [],
   "source": [
    "sells_df = pd.read_csv(\"Electronic_sales.csv\")"
   ]
  },
  {
   "cell_type": "code",
   "execution_count": null,
   "id": "ff9b821a",
   "metadata": {},
   "outputs": [],
   "source": [
    "sells_df.head()"
   ]
  },
  {
   "cell_type": "code",
   "execution_count": null,
   "id": "5f7a4b43",
   "metadata": {},
   "outputs": [],
   "source": []
  }
 ],
 "metadata": {
  "kernelspec": {
   "display_name": "Uni",
   "language": "python",
   "name": "python3"
  },
  "language_info": {
   "name": "python",
   "version": "3.13.2"
  }
 },
 "nbformat": 4,
 "nbformat_minor": 5
}
