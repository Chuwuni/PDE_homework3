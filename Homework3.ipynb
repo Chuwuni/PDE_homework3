{
 "cells": [
  {
   "cell_type": "code",
   "execution_count": 2,
   "id": "740aa1b5",
   "metadata": {},
   "outputs": [],
   "source": [
    "import pandas as pd\n",
    "import matplotlib as plt"
   ]
  },
  {
   "cell_type": "code",
   "execution_count": 3,
   "id": "7242ee25",
   "metadata": {},
   "outputs": [],
   "source": [
    "sells_df = pd.read_csv(\"Electronic_sales.csv\")"
   ]
  },
  {
   "cell_type": "markdown",
   "id": "303a4cca",
   "metadata": {},
   "source": [
    "# Задание 1"
   ]
  },
  {
   "cell_type": "code",
   "execution_count": 74,
   "id": "de147458",
   "metadata": {},
   "outputs": [],
   "source": [
    "sells_df['Payment Method'] = sells_df['Payment Method'].astype('category')"
   ]
  },
  {
   "cell_type": "code",
   "execution_count": 80,
   "id": "b92bae72",
   "metadata": {},
   "outputs": [
    {
     "name": "stdout",
     "output_type": "stream",
     "text": [
      "       Customer ID Payment Method  counts\n",
      "0             1000    Credit Card       1\n",
      "2             1002           Cash       1\n",
      "4             1003           Cash       1\n",
      "5             1004    Credit Card       1\n",
      "6             1005     Debit Card       1\n",
      "...            ...            ...     ...\n",
      "17144        19994  Bank Transfer       1\n",
      "17145        19995    Credit Card       1\n",
      "17146        19996  Bank Transfer       2\n",
      "17149        19997  Bank Transfer       1\n",
      "17150        19998  Bank Transfer       1\n",
      "\n",
      "[12136 rows x 3 columns]\n"
     ]
    },
    {
     "data": {
      "text/html": [
       "<div>\n",
       "<style scoped>\n",
       "    .dataframe tbody tr th:only-of-type {\n",
       "        vertical-align: middle;\n",
       "    }\n",
       "\n",
       "    .dataframe tbody tr th {\n",
       "        vertical-align: top;\n",
       "    }\n",
       "\n",
       "    .dataframe thead th {\n",
       "        text-align: right;\n",
       "    }\n",
       "</style>\n",
       "<table border=\"1\" class=\"dataframe\">\n",
       "  <thead>\n",
       "    <tr style=\"text-align: right;\">\n",
       "      <th></th>\n",
       "      <th>Customer ID</th>\n",
       "      <th>Payment Method</th>\n",
       "      <th>counts</th>\n",
       "    </tr>\n",
       "  </thead>\n",
       "  <tbody>\n",
       "    <tr>\n",
       "      <th>0</th>\n",
       "      <td>1000</td>\n",
       "      <td>Credit Card</td>\n",
       "      <td>1</td>\n",
       "    </tr>\n",
       "    <tr>\n",
       "      <th>2</th>\n",
       "      <td>1002</td>\n",
       "      <td>Cash</td>\n",
       "      <td>1</td>\n",
       "    </tr>\n",
       "    <tr>\n",
       "      <th>4</th>\n",
       "      <td>1003</td>\n",
       "      <td>Cash</td>\n",
       "      <td>1</td>\n",
       "    </tr>\n",
       "    <tr>\n",
       "      <th>5</th>\n",
       "      <td>1004</td>\n",
       "      <td>Credit Card</td>\n",
       "      <td>1</td>\n",
       "    </tr>\n",
       "    <tr>\n",
       "      <th>6</th>\n",
       "      <td>1005</td>\n",
       "      <td>Debit Card</td>\n",
       "      <td>1</td>\n",
       "    </tr>\n",
       "    <tr>\n",
       "      <th>...</th>\n",
       "      <td>...</td>\n",
       "      <td>...</td>\n",
       "      <td>...</td>\n",
       "    </tr>\n",
       "    <tr>\n",
       "      <th>3143</th>\n",
       "      <td>4270</td>\n",
       "      <td>Cash</td>\n",
       "      <td>1</td>\n",
       "    </tr>\n",
       "    <tr>\n",
       "      <th>3146</th>\n",
       "      <td>4271</td>\n",
       "      <td>Debit Card</td>\n",
       "      <td>2</td>\n",
       "    </tr>\n",
       "    <tr>\n",
       "      <th>3148</th>\n",
       "      <td>4272</td>\n",
       "      <td>Credit Card</td>\n",
       "      <td>1</td>\n",
       "    </tr>\n",
       "    <tr>\n",
       "      <th>3150</th>\n",
       "      <td>4274</td>\n",
       "      <td>Paypal</td>\n",
       "      <td>2</td>\n",
       "    </tr>\n",
       "    <tr>\n",
       "      <th>3151</th>\n",
       "      <td>4276</td>\n",
       "      <td>Paypal</td>\n",
       "      <td>1</td>\n",
       "    </tr>\n",
       "  </tbody>\n",
       "</table>\n",
       "<p>2200 rows × 3 columns</p>\n",
       "</div>"
      ],
      "text/plain": [
       "      Customer ID Payment Method  counts\n",
       "0            1000    Credit Card       1\n",
       "2            1002           Cash       1\n",
       "4            1003           Cash       1\n",
       "5            1004    Credit Card       1\n",
       "6            1005     Debit Card       1\n",
       "...           ...            ...     ...\n",
       "3143         4270           Cash       1\n",
       "3146         4271     Debit Card       2\n",
       "3148         4272    Credit Card       1\n",
       "3150         4274         Paypal       2\n",
       "3151         4276         Paypal       1\n",
       "\n",
       "[2200 rows x 3 columns]"
      ]
     },
     "execution_count": 80,
     "metadata": {},
     "output_type": "execute_result"
    }
   ],
   "source": [
    "payment_counts = sells_df.groupby(['Customer ID', 'Payment Method'], observed=True).size().reset_index(name='counts')\n",
    "\n",
    "favorite_payment = payment_counts.loc[payment_counts.groupby('Customer ID')['counts'].idxmax()]\n",
    "\n",
    "print(favorite_payment)\n",
    "\n",
    "favorite_payment.head(2200)"
   ]
  },
  {
   "cell_type": "code",
   "execution_count": 54,
   "id": "ba249687",
   "metadata": {},
   "outputs": [
    {
     "name": "stdout",
     "output_type": "stream",
     "text": [
      "Общие траты: 63602668.37\n"
     ]
    }
   ],
   "source": [
    "total_sells = sells_df[\"Total Price\"].sum()\n",
    "print(f\"Общие траты: {total_sells:.2f}\")"
   ]
  },
  {
   "cell_type": "code",
   "execution_count": 53,
   "id": "599c0790",
   "metadata": {},
   "outputs": [
    {
     "name": "stdout",
     "output_type": "stream",
     "text": [
      "Общие траты (успешные): 42629615.57\n"
     ]
    }
   ],
   "source": [
    "total_sells_succsess = sells_df[sells_df[\"Order Status\"] == \"Completed\"][\"Total Price\"].sum()\n",
    "print(f\"Общие траты (успешные): {total_sells_succsess:.2f}\")"
   ]
  },
  {
   "cell_type": "code",
   "execution_count": null,
   "id": "aa2e8829",
   "metadata": {},
   "outputs": [],
   "source": [
    "ts_by_client = sells_df.groupby(\"Customer ID\")[\"Total Price\"].sum()\n",
    "\n",
    "ts_by_client_succsess = sells_df[sells_df[\"Order Status\"] == \"Completed\"].groupby(\"Customer ID\")[\"Total Price\"].sum()"
   ]
  },
  {
   "cell_type": "code",
   "execution_count": 64,
   "id": "f237b89c",
   "metadata": {},
   "outputs": [
    {
     "name": "stdout",
     "output_type": "stream",
     "text": [
      "Обшие траты клиентов:\n"
     ]
    },
    {
     "data": {
      "text/plain": [
       "Customer ID\n",
       "1000     6279.42\n",
       "1002     5020.60\n",
       "1003       41.50\n",
       "1004       83.00\n",
       "1005    11779.11\n",
       "          ...   \n",
       "19994    5504.87\n",
       "19995    5394.56\n",
       "19996   27296.78\n",
       "19997    2528.26\n",
       "19998     674.32\n",
       "Name: Total Price, Length: 12136, dtype: float64"
      ]
     },
     "execution_count": 64,
     "metadata": {},
     "output_type": "execute_result"
    }
   ],
   "source": [
    "print(\"Обшие траты клиентов:\")\n",
    "ts_by_client"
   ]
  },
  {
   "cell_type": "code",
   "execution_count": 65,
   "id": "93095593",
   "metadata": {},
   "outputs": [
    {
     "name": "stdout",
     "output_type": "stream",
     "text": [
      "Обшие успешные траты клиентов:\n"
     ]
    },
    {
     "data": {
      "text/plain": [
       "Customer ID\n",
       "1000      741.09\n",
       "1002     5020.60\n",
       "1003       41.50\n",
       "1004       83.00\n",
       "1005    11779.11\n",
       "          ...   \n",
       "19990    9117.44\n",
       "19991   12368.06\n",
       "19995    5394.56\n",
       "19996   12063.02\n",
       "19998     674.32\n",
       "Name: Total Price, Length: 9466, dtype: float64"
      ]
     },
     "execution_count": 65,
     "metadata": {},
     "output_type": "execute_result"
    }
   ],
   "source": [
    "print(\"Обшие успешные траты клиентов:\")\n",
    "ts_by_client_succsess"
   ]
  },
  {
   "cell_type": "code",
   "execution_count": 69,
   "id": "e4e10e5b",
   "metadata": {},
   "outputs": [],
   "source": [
    "a_total_additional_sells = sells_df[\"Add-on Total\"].sum()"
   ]
  },
  {
   "cell_type": "code",
   "execution_count": 70,
   "id": "22e123a7",
   "metadata": {},
   "outputs": [
    {
     "name": "stdout",
     "output_type": "stream",
     "text": [
      "1244896.96\n"
     ]
    }
   ],
   "source": [
    "print(f\"{a_total_additional_sells:.2f}\")"
   ]
  },
  {
   "cell_type": "code",
   "execution_count": null,
   "id": "1d005032",
   "metadata": {},
   "outputs": [],
   "source": [
    "s_total_additional_sells = sells_df[sells_df[\"Order Status\"] == \"Completed\"][\"Add-on Total\"].sum()"
   ]
  },
  {
   "cell_type": "code",
   "execution_count": null,
   "id": "a1979dbf",
   "metadata": {},
   "outputs": [
    {
     "name": "stdout",
     "output_type": "stream",
     "text": [
      "835595.24\n"
     ]
    }
   ],
   "source": [
    "print(f\"{s_total_additional_sells:.2f}\")"
   ]
  },
  {
   "cell_type": "code",
   "execution_count": 71,
   "id": "7915d1ae",
   "metadata": {},
   "outputs": [],
   "source": [
    "a_total_additional_sells_by_client = sells_df.groupby(\"Customer ID\")[\"Add-on Total\"].sum()"
   ]
  },
  {
   "cell_type": "code",
   "execution_count": 72,
   "id": "a243fec1",
   "metadata": {},
   "outputs": [],
   "source": [
    "s_total_additional_sells_by_client = sells_df[sells_df[\"Order Status\"] == \"Completed\"].groupby(\"Customer ID\")[\"Add-on Total\"].sum()"
   ]
  },
  {
   "cell_type": "code",
   "execution_count": 96,
   "id": "203b8fcb",
   "metadata": {},
   "outputs": [],
   "source": [
    "first_final_df = sells_df[\"Customer ID\"].drop_duplicates().to_frame().join(favorite_payment.set_index(\"Customer ID\"), on=\"Customer ID\", how='left').join(ts_by_client.rename(\"Total Sells\"), on=\"Customer ID\", how='left').join(ts_by_client_succsess.rename(\"Total Sells Success\"), on=\"Customer ID\", how='left').join(a_total_additional_sells_by_client.rename(\"Add-on Total Sells\"), on=\"Customer ID\", how='left').join(s_total_additional_sells_by_client.rename(\"Add-on Total Sells Success\"), on=\"Customer ID\", how='left')"
   ]
  },
  {
   "cell_type": "code",
   "execution_count": 97,
   "id": "c09f7e7e",
   "metadata": {},
   "outputs": [
    {
     "data": {
      "text/html": [
       "<div>\n",
       "<style scoped>\n",
       "    .dataframe tbody tr th:only-of-type {\n",
       "        vertical-align: middle;\n",
       "    }\n",
       "\n",
       "    .dataframe tbody tr th {\n",
       "        vertical-align: top;\n",
       "    }\n",
       "\n",
       "    .dataframe thead th {\n",
       "        text-align: right;\n",
       "    }\n",
       "</style>\n",
       "<table border=\"1\" class=\"dataframe\">\n",
       "  <thead>\n",
       "    <tr style=\"text-align: right;\">\n",
       "      <th></th>\n",
       "      <th>Customer ID</th>\n",
       "      <th>Payment Method</th>\n",
       "      <th>counts</th>\n",
       "      <th>Total Sells</th>\n",
       "      <th>Total Sells Success</th>\n",
       "      <th>Add-on Total Sells</th>\n",
       "      <th>Add-on Total Sells Success</th>\n",
       "    </tr>\n",
       "  </thead>\n",
       "  <tbody>\n",
       "    <tr>\n",
       "      <th>0</th>\n",
       "      <td>1000</td>\n",
       "      <td>Credit Card</td>\n",
       "      <td>1</td>\n",
       "      <td>6279.42</td>\n",
       "      <td>741.09</td>\n",
       "      <td>66.30</td>\n",
       "      <td>26.09</td>\n",
       "    </tr>\n",
       "    <tr>\n",
       "      <th>2</th>\n",
       "      <td>1002</td>\n",
       "      <td>Cash</td>\n",
       "      <td>1</td>\n",
       "      <td>5020.60</td>\n",
       "      <td>5020.60</td>\n",
       "      <td>60.16</td>\n",
       "      <td>60.16</td>\n",
       "    </tr>\n",
       "    <tr>\n",
       "      <th>4</th>\n",
       "      <td>1003</td>\n",
       "      <td>Cash</td>\n",
       "      <td>1</td>\n",
       "      <td>41.50</td>\n",
       "      <td>41.50</td>\n",
       "      <td>35.56</td>\n",
       "      <td>35.56</td>\n",
       "    </tr>\n",
       "    <tr>\n",
       "      <th>5</th>\n",
       "      <td>1004</td>\n",
       "      <td>Credit Card</td>\n",
       "      <td>1</td>\n",
       "      <td>83.00</td>\n",
       "      <td>83.00</td>\n",
       "      <td>65.78</td>\n",
       "      <td>65.78</td>\n",
       "    </tr>\n",
       "    <tr>\n",
       "      <th>6</th>\n",
       "      <td>1005</td>\n",
       "      <td>Debit Card</td>\n",
       "      <td>1</td>\n",
       "      <td>11779.11</td>\n",
       "      <td>11779.11</td>\n",
       "      <td>75.33</td>\n",
       "      <td>75.33</td>\n",
       "    </tr>\n",
       "    <tr>\n",
       "      <th>...</th>\n",
       "      <td>...</td>\n",
       "      <td>...</td>\n",
       "      <td>...</td>\n",
       "      <td>...</td>\n",
       "      <td>...</td>\n",
       "      <td>...</td>\n",
       "      <td>...</td>\n",
       "    </tr>\n",
       "    <tr>\n",
       "      <th>19990</th>\n",
       "      <td>19994</td>\n",
       "      <td>Bank Transfer</td>\n",
       "      <td>1</td>\n",
       "      <td>5504.87</td>\n",
       "      <td>NaN</td>\n",
       "      <td>93.17</td>\n",
       "      <td>NaN</td>\n",
       "    </tr>\n",
       "    <tr>\n",
       "      <th>19991</th>\n",
       "      <td>19995</td>\n",
       "      <td>Credit Card</td>\n",
       "      <td>1</td>\n",
       "      <td>5394.56</td>\n",
       "      <td>5394.56</td>\n",
       "      <td>0.00</td>\n",
       "      <td>0.00</td>\n",
       "    </tr>\n",
       "    <tr>\n",
       "      <th>19992</th>\n",
       "      <td>19996</td>\n",
       "      <td>Bank Transfer</td>\n",
       "      <td>2</td>\n",
       "      <td>27296.78</td>\n",
       "      <td>12063.02</td>\n",
       "      <td>432.12</td>\n",
       "      <td>198.98</td>\n",
       "    </tr>\n",
       "    <tr>\n",
       "      <th>19998</th>\n",
       "      <td>19997</td>\n",
       "      <td>Bank Transfer</td>\n",
       "      <td>1</td>\n",
       "      <td>2528.26</td>\n",
       "      <td>NaN</td>\n",
       "      <td>101.34</td>\n",
       "      <td>NaN</td>\n",
       "    </tr>\n",
       "    <tr>\n",
       "      <th>19999</th>\n",
       "      <td>19998</td>\n",
       "      <td>Bank Transfer</td>\n",
       "      <td>1</td>\n",
       "      <td>674.32</td>\n",
       "      <td>674.32</td>\n",
       "      <td>0.00</td>\n",
       "      <td>0.00</td>\n",
       "    </tr>\n",
       "  </tbody>\n",
       "</table>\n",
       "<p>12136 rows × 7 columns</p>\n",
       "</div>"
      ],
      "text/plain": [
       "       Customer ID Payment Method  counts  Total Sells  Total Sells Success  \\\n",
       "0             1000    Credit Card       1      6279.42               741.09   \n",
       "2             1002           Cash       1      5020.60              5020.60   \n",
       "4             1003           Cash       1        41.50                41.50   \n",
       "5             1004    Credit Card       1        83.00                83.00   \n",
       "6             1005     Debit Card       1     11779.11             11779.11   \n",
       "...            ...            ...     ...          ...                  ...   \n",
       "19990        19994  Bank Transfer       1      5504.87                  NaN   \n",
       "19991        19995    Credit Card       1      5394.56              5394.56   \n",
       "19992        19996  Bank Transfer       2     27296.78             12063.02   \n",
       "19998        19997  Bank Transfer       1      2528.26                  NaN   \n",
       "19999        19998  Bank Transfer       1       674.32               674.32   \n",
       "\n",
       "       Add-on Total Sells  Add-on Total Sells Success  \n",
       "0                   66.30                       26.09  \n",
       "2                   60.16                       60.16  \n",
       "4                   35.56                       35.56  \n",
       "5                   65.78                       65.78  \n",
       "6                   75.33                       75.33  \n",
       "...                   ...                         ...  \n",
       "19990               93.17                         NaN  \n",
       "19991                0.00                        0.00  \n",
       "19992              432.12                      198.98  \n",
       "19998              101.34                         NaN  \n",
       "19999                0.00                        0.00  \n",
       "\n",
       "[12136 rows x 7 columns]"
      ]
     },
     "execution_count": 97,
     "metadata": {},
     "output_type": "execute_result"
    }
   ],
   "source": [
    "first_final_df"
   ]
  },
  {
   "cell_type": "markdown",
   "id": "dd47e975",
   "metadata": {},
   "source": [
    "# Задание 2"
   ]
  },
  {
   "cell_type": "markdown",
   "id": "2d34210f",
   "metadata": {},
   "source": [
    "Если доход то нас не интересуют строки с отменённым заказом"
   ]
  },
  {
   "cell_type": "code",
   "execution_count": 7,
   "id": "9dafb4b8",
   "metadata": {},
   "outputs": [],
   "source": [
    "succsess_sells_df = sells_df[sells_df[\"Order Status\"] == \"Completed\"]"
   ]
  },
  {
   "cell_type": "code",
   "execution_count": 8,
   "id": "ce62792b",
   "metadata": {},
   "outputs": [
    {
     "data": {
      "text/html": [
       "<div>\n",
       "<style scoped>\n",
       "    .dataframe tbody tr th:only-of-type {\n",
       "        vertical-align: middle;\n",
       "    }\n",
       "\n",
       "    .dataframe tbody tr th {\n",
       "        vertical-align: top;\n",
       "    }\n",
       "\n",
       "    .dataframe thead th {\n",
       "        text-align: right;\n",
       "    }\n",
       "</style>\n",
       "<table border=\"1\" class=\"dataframe\">\n",
       "  <thead>\n",
       "    <tr style=\"text-align: right;\">\n",
       "      <th></th>\n",
       "      <th>Customer ID</th>\n",
       "      <th>Age</th>\n",
       "      <th>Gender</th>\n",
       "      <th>Loyalty Member</th>\n",
       "      <th>Product Type</th>\n",
       "      <th>SKU</th>\n",
       "      <th>Rating</th>\n",
       "      <th>Order Status</th>\n",
       "      <th>Payment Method</th>\n",
       "      <th>Total Price</th>\n",
       "      <th>Unit Price</th>\n",
       "      <th>Quantity</th>\n",
       "      <th>Purchase Date</th>\n",
       "      <th>Shipping Type</th>\n",
       "      <th>Add-ons Purchased</th>\n",
       "      <th>Add-on Total</th>\n",
       "    </tr>\n",
       "  </thead>\n",
       "  <tbody>\n",
       "    <tr>\n",
       "      <th>1</th>\n",
       "      <td>1000</td>\n",
       "      <td>53</td>\n",
       "      <td>Male</td>\n",
       "      <td>No</td>\n",
       "      <td>Tablet</td>\n",
       "      <td>SKU1002</td>\n",
       "      <td>3</td>\n",
       "      <td>Completed</td>\n",
       "      <td>Paypal</td>\n",
       "      <td>741.09</td>\n",
       "      <td>247.03</td>\n",
       "      <td>3</td>\n",
       "      <td>2024-04-20</td>\n",
       "      <td>Overnight</td>\n",
       "      <td>Impulse Item</td>\n",
       "      <td>26.09</td>\n",
       "    </tr>\n",
       "    <tr>\n",
       "      <th>2</th>\n",
       "      <td>1002</td>\n",
       "      <td>41</td>\n",
       "      <td>Male</td>\n",
       "      <td>No</td>\n",
       "      <td>Laptop</td>\n",
       "      <td>SKU1005</td>\n",
       "      <td>3</td>\n",
       "      <td>Completed</td>\n",
       "      <td>Credit Card</td>\n",
       "      <td>1855.84</td>\n",
       "      <td>463.96</td>\n",
       "      <td>4</td>\n",
       "      <td>2023-10-17</td>\n",
       "      <td>Express</td>\n",
       "      <td>NaN</td>\n",
       "      <td>0.00</td>\n",
       "    </tr>\n",
       "    <tr>\n",
       "      <th>3</th>\n",
       "      <td>1002</td>\n",
       "      <td>41</td>\n",
       "      <td>Male</td>\n",
       "      <td>Yes</td>\n",
       "      <td>Smartphone</td>\n",
       "      <td>SKU1004</td>\n",
       "      <td>2</td>\n",
       "      <td>Completed</td>\n",
       "      <td>Cash</td>\n",
       "      <td>3164.76</td>\n",
       "      <td>791.19</td>\n",
       "      <td>4</td>\n",
       "      <td>2024-08-09</td>\n",
       "      <td>Overnight</td>\n",
       "      <td>Impulse Item,Impulse Item</td>\n",
       "      <td>60.16</td>\n",
       "    </tr>\n",
       "    <tr>\n",
       "      <th>4</th>\n",
       "      <td>1003</td>\n",
       "      <td>75</td>\n",
       "      <td>Male</td>\n",
       "      <td>Yes</td>\n",
       "      <td>Smartphone</td>\n",
       "      <td>SKU1001</td>\n",
       "      <td>5</td>\n",
       "      <td>Completed</td>\n",
       "      <td>Cash</td>\n",
       "      <td>41.50</td>\n",
       "      <td>20.75</td>\n",
       "      <td>2</td>\n",
       "      <td>2024-05-21</td>\n",
       "      <td>Express</td>\n",
       "      <td>Accessory</td>\n",
       "      <td>35.56</td>\n",
       "    </tr>\n",
       "    <tr>\n",
       "      <th>5</th>\n",
       "      <td>1004</td>\n",
       "      <td>41</td>\n",
       "      <td>Female</td>\n",
       "      <td>No</td>\n",
       "      <td>Smartphone</td>\n",
       "      <td>SKU1001</td>\n",
       "      <td>5</td>\n",
       "      <td>Completed</td>\n",
       "      <td>Credit Card</td>\n",
       "      <td>83.00</td>\n",
       "      <td>20.75</td>\n",
       "      <td>4</td>\n",
       "      <td>2024-05-26</td>\n",
       "      <td>Standard</td>\n",
       "      <td>Impulse Item,Accessory</td>\n",
       "      <td>65.78</td>\n",
       "    </tr>\n",
       "    <tr>\n",
       "      <th>...</th>\n",
       "      <td>...</td>\n",
       "      <td>...</td>\n",
       "      <td>...</td>\n",
       "      <td>...</td>\n",
       "      <td>...</td>\n",
       "      <td>...</td>\n",
       "      <td>...</td>\n",
       "      <td>...</td>\n",
       "      <td>...</td>\n",
       "      <td>...</td>\n",
       "      <td>...</td>\n",
       "      <td>...</td>\n",
       "      <td>...</td>\n",
       "      <td>...</td>\n",
       "      <td>...</td>\n",
       "      <td>...</td>\n",
       "    </tr>\n",
       "    <tr>\n",
       "      <th>19991</th>\n",
       "      <td>19995</td>\n",
       "      <td>69</td>\n",
       "      <td>Female</td>\n",
       "      <td>Yes</td>\n",
       "      <td>Laptop</td>\n",
       "      <td>LTP123</td>\n",
       "      <td>3</td>\n",
       "      <td>Completed</td>\n",
       "      <td>Credit Card</td>\n",
       "      <td>5394.56</td>\n",
       "      <td>674.32</td>\n",
       "      <td>8</td>\n",
       "      <td>2024-08-09</td>\n",
       "      <td>Same Day</td>\n",
       "      <td>NaN</td>\n",
       "      <td>0.00</td>\n",
       "    </tr>\n",
       "    <tr>\n",
       "      <th>19994</th>\n",
       "      <td>19996</td>\n",
       "      <td>27</td>\n",
       "      <td>Female</td>\n",
       "      <td>No</td>\n",
       "      <td>Smartphone</td>\n",
       "      <td>SMP234</td>\n",
       "      <td>5</td>\n",
       "      <td>Completed</td>\n",
       "      <td>Credit Card</td>\n",
       "      <td>3419.04</td>\n",
       "      <td>1139.68</td>\n",
       "      <td>3</td>\n",
       "      <td>2024-04-20</td>\n",
       "      <td>Same Day</td>\n",
       "      <td>NaN</td>\n",
       "      <td>0.00</td>\n",
       "    </tr>\n",
       "    <tr>\n",
       "      <th>19995</th>\n",
       "      <td>19996</td>\n",
       "      <td>27</td>\n",
       "      <td>Female</td>\n",
       "      <td>No</td>\n",
       "      <td>Smartphone</td>\n",
       "      <td>SMP234</td>\n",
       "      <td>4</td>\n",
       "      <td>Completed</td>\n",
       "      <td>Bank Transfer</td>\n",
       "      <td>6838.08</td>\n",
       "      <td>1139.68</td>\n",
       "      <td>6</td>\n",
       "      <td>2024-06-15</td>\n",
       "      <td>Expedited</td>\n",
       "      <td>NaN</td>\n",
       "      <td>0.00</td>\n",
       "    </tr>\n",
       "    <tr>\n",
       "      <th>19997</th>\n",
       "      <td>19996</td>\n",
       "      <td>27</td>\n",
       "      <td>Female</td>\n",
       "      <td>No</td>\n",
       "      <td>Headphones</td>\n",
       "      <td>HDP456</td>\n",
       "      <td>4</td>\n",
       "      <td>Completed</td>\n",
       "      <td>Bank Transfer</td>\n",
       "      <td>1805.90</td>\n",
       "      <td>361.18</td>\n",
       "      <td>5</td>\n",
       "      <td>2024-08-26</td>\n",
       "      <td>Standard</td>\n",
       "      <td>Impulse Item, Extended Warranty, Accessory</td>\n",
       "      <td>198.98</td>\n",
       "    </tr>\n",
       "    <tr>\n",
       "      <th>19999</th>\n",
       "      <td>19998</td>\n",
       "      <td>27</td>\n",
       "      <td>NaN</td>\n",
       "      <td>Yes</td>\n",
       "      <td>Laptop</td>\n",
       "      <td>LTP123</td>\n",
       "      <td>4</td>\n",
       "      <td>Completed</td>\n",
       "      <td>Bank Transfer</td>\n",
       "      <td>674.32</td>\n",
       "      <td>674.32</td>\n",
       "      <td>1</td>\n",
       "      <td>2024-01-29</td>\n",
       "      <td>Expedited</td>\n",
       "      <td>NaN</td>\n",
       "      <td>0.00</td>\n",
       "    </tr>\n",
       "  </tbody>\n",
       "</table>\n",
       "<p>13432 rows × 16 columns</p>\n",
       "</div>"
      ],
      "text/plain": [
       "       Customer ID  Age  Gender Loyalty Member Product Type      SKU  Rating  \\\n",
       "1             1000   53    Male             No       Tablet  SKU1002       3   \n",
       "2             1002   41    Male             No       Laptop  SKU1005       3   \n",
       "3             1002   41    Male            Yes   Smartphone  SKU1004       2   \n",
       "4             1003   75    Male            Yes   Smartphone  SKU1001       5   \n",
       "5             1004   41  Female             No   Smartphone  SKU1001       5   \n",
       "...            ...  ...     ...            ...          ...      ...     ...   \n",
       "19991        19995   69  Female            Yes       Laptop   LTP123       3   \n",
       "19994        19996   27  Female             No   Smartphone   SMP234       5   \n",
       "19995        19996   27  Female             No   Smartphone   SMP234       4   \n",
       "19997        19996   27  Female             No   Headphones   HDP456       4   \n",
       "19999        19998   27     NaN            Yes       Laptop   LTP123       4   \n",
       "\n",
       "      Order Status Payment Method  Total Price  Unit Price  Quantity  \\\n",
       "1        Completed         Paypal       741.09      247.03         3   \n",
       "2        Completed    Credit Card      1855.84      463.96         4   \n",
       "3        Completed           Cash      3164.76      791.19         4   \n",
       "4        Completed           Cash        41.50       20.75         2   \n",
       "5        Completed    Credit Card        83.00       20.75         4   \n",
       "...            ...            ...          ...         ...       ...   \n",
       "19991    Completed    Credit Card      5394.56      674.32         8   \n",
       "19994    Completed    Credit Card      3419.04     1139.68         3   \n",
       "19995    Completed  Bank Transfer      6838.08     1139.68         6   \n",
       "19997    Completed  Bank Transfer      1805.90      361.18         5   \n",
       "19999    Completed  Bank Transfer       674.32      674.32         1   \n",
       "\n",
       "      Purchase Date Shipping Type                           Add-ons Purchased  \\\n",
       "1        2024-04-20     Overnight                                Impulse Item   \n",
       "2        2023-10-17       Express                                         NaN   \n",
       "3        2024-08-09     Overnight                   Impulse Item,Impulse Item   \n",
       "4        2024-05-21       Express                                   Accessory   \n",
       "5        2024-05-26      Standard                      Impulse Item,Accessory   \n",
       "...             ...           ...                                         ...   \n",
       "19991    2024-08-09      Same Day                                         NaN   \n",
       "19994    2024-04-20      Same Day                                         NaN   \n",
       "19995    2024-06-15     Expedited                                         NaN   \n",
       "19997    2024-08-26      Standard  Impulse Item, Extended Warranty, Accessory   \n",
       "19999    2024-01-29     Expedited                                         NaN   \n",
       "\n",
       "       Add-on Total  \n",
       "1             26.09  \n",
       "2              0.00  \n",
       "3             60.16  \n",
       "4             35.56  \n",
       "5             65.78  \n",
       "...             ...  \n",
       "19991          0.00  \n",
       "19994          0.00  \n",
       "19995          0.00  \n",
       "19997        198.98  \n",
       "19999          0.00  \n",
       "\n",
       "[13432 rows x 16 columns]"
      ]
     },
     "execution_count": 8,
     "metadata": {},
     "output_type": "execute_result"
    }
   ],
   "source": [
    "succsess_sells_df"
   ]
  },
  {
   "cell_type": "code",
   "execution_count": 9,
   "id": "5a2a9ae0",
   "metadata": {},
   "outputs": [],
   "source": [
    "by_shipping = succsess_sells_df.groupby(\"Shipping Type\")[\"Total Price\"].sum()"
   ]
  },
  {
   "cell_type": "code",
   "execution_count": 10,
   "id": "887c353b",
   "metadata": {},
   "outputs": [
    {
     "data": {
      "text/plain": [
       "Shipping Type\n",
       "Expedited     8430385.58\n",
       "Express       5632093.35\n",
       "Overnight     5887722.52\n",
       "Same Day      8292376.50\n",
       "Standard     14387037.62\n",
       "Name: Total Price, dtype: float64"
      ]
     },
     "execution_count": 10,
     "metadata": {},
     "output_type": "execute_result"
    }
   ],
   "source": [
    "by_shipping"
   ]
  },
  {
   "cell_type": "code",
   "execution_count": 11,
   "id": "657071e3",
   "metadata": {},
   "outputs": [],
   "source": [
    "by_product_category = succsess_sells_df.groupby(\"Product Type\")[\"Total Price\"].sum()"
   ]
  },
  {
   "cell_type": "code",
   "execution_count": 12,
   "id": "e3ebc21d",
   "metadata": {},
   "outputs": [
    {
     "data": {
      "text/plain": [
       "Product Type\n",
       "Headphones     2734651.00\n",
       "Laptop         8365905.25\n",
       "Smartphone    14407835.84\n",
       "Smartwatch     9398591.23\n",
       "Tablet         7722632.25\n",
       "Name: Total Price, dtype: float64"
      ]
     },
     "execution_count": 12,
     "metadata": {},
     "output_type": "execute_result"
    }
   ],
   "source": [
    "by_product_category"
   ]
  },
  {
   "cell_type": "code",
   "execution_count": 13,
   "id": "1b2e26bd",
   "metadata": {},
   "outputs": [],
   "source": [
    "by_addon_month_df = succsess_sells_df.groupby(succsess_sells_df[\"Purchase Date\"].str.slice(0,7))[\"Add-on Total\"].sum()"
   ]
  },
  {
   "cell_type": "code",
   "execution_count": 14,
   "id": "bb2c5608",
   "metadata": {},
   "outputs": [
    {
     "data": {
      "text/plain": [
       "Purchase Date\n",
       "2023-09     5337.61\n",
       "2023-10    26153.21\n",
       "2023-11    24453.33\n",
       "2023-12    22750.23\n",
       "2024-01    93254.95\n",
       "2024-02    80253.72\n",
       "2024-03    84713.93\n",
       "2024-04    82294.06\n",
       "2024-05    89374.18\n",
       "2024-06    84648.60\n",
       "2024-07    88811.55\n",
       "2024-08    87861.11\n",
       "2024-09    65688.76\n",
       "Name: Add-on Total, dtype: float64"
      ]
     },
     "execution_count": 14,
     "metadata": {},
     "output_type": "execute_result"
    }
   ],
   "source": [
    "by_addon_month_df"
   ]
  },
  {
   "cell_type": "code",
   "execution_count": null,
   "id": "aab12ada",
   "metadata": {},
   "outputs": [],
   "source": [
    "by_addons_quarter_df = (\n",
    "    succsess_sells_df.groupby(\n",
    "        succsess_sells_df[\"Purchase Date\"].str.slice(0,4) \n",
    "        + \" Q\" + \n",
    "        ((succsess_sells_df[\"Purchase Date\"].str.slice(5,7).astype(int)-1)//3 +1).astype(str))[\"Add-on Total\"]\n",
    "    .sum()\n",
    ")"
   ]
  },
  {
   "cell_type": "code",
   "execution_count": 16,
   "id": "0022d2b6",
   "metadata": {},
   "outputs": [
    {
     "data": {
      "text/plain": [
       "Purchase Date\n",
       "2023 Q3      5337.61\n",
       "2023 Q4     73356.77\n",
       "2024 Q1    258222.60\n",
       "2024 Q2    256316.84\n",
       "2024 Q3    242361.42\n",
       "Name: Add-on Total, dtype: float64"
      ]
     },
     "execution_count": 16,
     "metadata": {},
     "output_type": "execute_result"
    }
   ],
   "source": [
    "by_addons_quarter_df"
   ]
  },
  {
   "cell_type": "code",
   "execution_count": null,
   "id": "70cd9c89",
   "metadata": {},
   "outputs": [],
   "source": []
  }
 ],
 "metadata": {
  "kernelspec": {
   "display_name": "Uni",
   "language": "python",
   "name": "python3"
  },
  "language_info": {
   "codemirror_mode": {
    "name": "ipython",
    "version": 3
   },
   "file_extension": ".py",
   "mimetype": "text/x-python",
   "name": "python",
   "nbconvert_exporter": "python",
   "pygments_lexer": "ipython3",
   "version": "3.13.2"
  }
 },
 "nbformat": 4,
 "nbformat_minor": 5
}
